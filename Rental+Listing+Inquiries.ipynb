{
 "cells": [
  {
   "cell_type": "code",
   "execution_count": 30,
   "metadata": {},
   "outputs": [],
   "source": [
    "from __future__ import print_function\n",
    "import matplotlib.pyplot as plt\n",
    "import numpy as np\n",
    "import os\n",
    "import sys\n",
    "import tarfile\n",
    "import pandas as pd\n",
    "from sklearn.linear_model import LinearRegression, LogisticRegression\n",
    "from sklearn import model_selection, preprocessing, ensemble\n",
    "from sklearn.metrics import log_loss\n",
    "from sklearn.feature_extraction.text import TfidfVectorizer, CountVectorizer\n",
    "from sklearn import svm\n",
    "from sklearn.ensemble import RandomForestClassifier\n",
    "import tensorflow as tf\n",
    "import seaborn as sns\n",
    "color= sns.color_palette()\n",
    "from scipy import sparse\n",
    "%matplotlib inline"
   ]
  },
  {
   "cell_type": "code",
   "execution_count": 24,
   "metadata": {
    "collapsed": true
   },
   "outputs": [],
   "source": [
    "train_df= pd.read_json(\"/users/krutarthmajithia/downloads/train.json\")\n",
    "test_df = pd.read_json('/users/krutarthmajithia/downloads/test.json')"
   ]
  },
  {
   "cell_type": "code",
   "execution_count": 3,
   "metadata": {},
   "outputs": [
    {
     "data": {
      "text/html": [
       "<div>\n",
       "<style>\n",
       "    .dataframe thead tr:only-child th {\n",
       "        text-align: right;\n",
       "    }\n",
       "\n",
       "    .dataframe thead th {\n",
       "        text-align: left;\n",
       "    }\n",
       "\n",
       "    .dataframe tbody tr th {\n",
       "        vertical-align: top;\n",
       "    }\n",
       "</style>\n",
       "<table border=\"1\" class=\"dataframe\">\n",
       "  <thead>\n",
       "    <tr style=\"text-align: right;\">\n",
       "      <th></th>\n",
       "      <th>bathrooms</th>\n",
       "      <th>bedrooms</th>\n",
       "      <th>building_id</th>\n",
       "      <th>created</th>\n",
       "      <th>description</th>\n",
       "      <th>display_address</th>\n",
       "      <th>features</th>\n",
       "      <th>interest_level</th>\n",
       "      <th>latitude</th>\n",
       "      <th>listing_id</th>\n",
       "      <th>longitude</th>\n",
       "      <th>manager_id</th>\n",
       "      <th>photos</th>\n",
       "      <th>price</th>\n",
       "      <th>street_address</th>\n",
       "    </tr>\n",
       "  </thead>\n",
       "  <tbody>\n",
       "    <tr>\n",
       "      <th>10</th>\n",
       "      <td>1.5</td>\n",
       "      <td>3</td>\n",
       "      <td>53a5b119ba8f7b61d4e010512e0dfc85</td>\n",
       "      <td>2016-06-24 07:54:24</td>\n",
       "      <td>A Brand New 3 Bedroom 1.5 bath ApartmentEnjoy ...</td>\n",
       "      <td>Metropolitan Avenue</td>\n",
       "      <td>[]</td>\n",
       "      <td>medium</td>\n",
       "      <td>40.7145</td>\n",
       "      <td>7211212</td>\n",
       "      <td>-73.9425</td>\n",
       "      <td>5ba989232d0489da1b5f2c45f6688adc</td>\n",
       "      <td>[https://photos.renthop.com/2/7211212_1ed4542e...</td>\n",
       "      <td>3000</td>\n",
       "      <td>792 Metropolitan Avenue</td>\n",
       "    </tr>\n",
       "    <tr>\n",
       "      <th>10000</th>\n",
       "      <td>1.0</td>\n",
       "      <td>2</td>\n",
       "      <td>c5c8a357cba207596b04d1afd1e4f130</td>\n",
       "      <td>2016-06-12 12:19:27</td>\n",
       "      <td></td>\n",
       "      <td>Columbus Avenue</td>\n",
       "      <td>[Doorman, Elevator, Fitness Center, Cats Allow...</td>\n",
       "      <td>low</td>\n",
       "      <td>40.7947</td>\n",
       "      <td>7150865</td>\n",
       "      <td>-73.9667</td>\n",
       "      <td>7533621a882f71e25173b27e3139d83d</td>\n",
       "      <td>[https://photos.renthop.com/2/7150865_be3306c5...</td>\n",
       "      <td>5465</td>\n",
       "      <td>808 Columbus Avenue</td>\n",
       "    </tr>\n",
       "    <tr>\n",
       "      <th>100004</th>\n",
       "      <td>1.0</td>\n",
       "      <td>1</td>\n",
       "      <td>c3ba40552e2120b0acfc3cb5730bb2aa</td>\n",
       "      <td>2016-04-17 03:26:41</td>\n",
       "      <td>Top Top West Village location, beautiful Pre-w...</td>\n",
       "      <td>W 13 Street</td>\n",
       "      <td>[Laundry In Building, Dishwasher, Hardwood Flo...</td>\n",
       "      <td>high</td>\n",
       "      <td>40.7388</td>\n",
       "      <td>6887163</td>\n",
       "      <td>-74.0018</td>\n",
       "      <td>d9039c43983f6e564b1482b273bd7b01</td>\n",
       "      <td>[https://photos.renthop.com/2/6887163_de85c427...</td>\n",
       "      <td>2850</td>\n",
       "      <td>241 W 13 Street</td>\n",
       "    </tr>\n",
       "    <tr>\n",
       "      <th>100007</th>\n",
       "      <td>1.0</td>\n",
       "      <td>1</td>\n",
       "      <td>28d9ad350afeaab8027513a3e52ac8d5</td>\n",
       "      <td>2016-04-18 02:22:02</td>\n",
       "      <td>Building Amenities - Garage - Garden - fitness...</td>\n",
       "      <td>East 49th Street</td>\n",
       "      <td>[Hardwood Floors, No Fee]</td>\n",
       "      <td>low</td>\n",
       "      <td>40.7539</td>\n",
       "      <td>6888711</td>\n",
       "      <td>-73.9677</td>\n",
       "      <td>1067e078446a7897d2da493d2f741316</td>\n",
       "      <td>[https://photos.renthop.com/2/6888711_6e660cee...</td>\n",
       "      <td>3275</td>\n",
       "      <td>333 East 49th Street</td>\n",
       "    </tr>\n",
       "    <tr>\n",
       "      <th>100013</th>\n",
       "      <td>1.0</td>\n",
       "      <td>4</td>\n",
       "      <td>0</td>\n",
       "      <td>2016-04-28 01:32:41</td>\n",
       "      <td>Beautifully renovated 3 bedroom flex 4 bedroom...</td>\n",
       "      <td>West 143rd Street</td>\n",
       "      <td>[Pre-War]</td>\n",
       "      <td>low</td>\n",
       "      <td>40.8241</td>\n",
       "      <td>6934781</td>\n",
       "      <td>-73.9493</td>\n",
       "      <td>98e13ad4b495b9613cef886d79a6291f</td>\n",
       "      <td>[https://photos.renthop.com/2/6934781_1fa4b41a...</td>\n",
       "      <td>3350</td>\n",
       "      <td>500 West 143rd Street</td>\n",
       "    </tr>\n",
       "    <tr>\n",
       "      <th>100014</th>\n",
       "      <td>2.0</td>\n",
       "      <td>4</td>\n",
       "      <td>38a913e46c94a7f46ddf19b756a9640c</td>\n",
       "      <td>2016-04-19 04:24:47</td>\n",
       "      <td></td>\n",
       "      <td>West 18th Street</td>\n",
       "      <td>[]</td>\n",
       "      <td>medium</td>\n",
       "      <td>40.7429</td>\n",
       "      <td>6894514</td>\n",
       "      <td>-74.0028</td>\n",
       "      <td>b209e2c4384a64cc307c26759ee0c651</td>\n",
       "      <td>[https://photos.renthop.com/2/6894514_9abb8592...</td>\n",
       "      <td>7995</td>\n",
       "      <td>350 West 18th Street</td>\n",
       "    </tr>\n",
       "    <tr>\n",
       "      <th>100016</th>\n",
       "      <td>1.0</td>\n",
       "      <td>2</td>\n",
       "      <td>3ba49a93260ca5df92fde024cb4ca61f</td>\n",
       "      <td>2016-04-27 03:19:56</td>\n",
       "      <td>Stunning unit with a great location and lots o...</td>\n",
       "      <td>West 107th Street</td>\n",
       "      <td>[prewar, elevator, Dogs Allowed, Cats Allowed,...</td>\n",
       "      <td>low</td>\n",
       "      <td>40.8012</td>\n",
       "      <td>6930771</td>\n",
       "      <td>-73.9660</td>\n",
       "      <td>01287194f20de51872e81f660def4784</td>\n",
       "      <td>[https://photos.renthop.com/2/6930771_7e3622b6...</td>\n",
       "      <td>3600</td>\n",
       "      <td>210 West 107th Street</td>\n",
       "    </tr>\n",
       "    <tr>\n",
       "      <th>100020</th>\n",
       "      <td>2.0</td>\n",
       "      <td>1</td>\n",
       "      <td>0372927bcb6a0949613ef5bf893bbac7</td>\n",
       "      <td>2016-04-13 06:01:42</td>\n",
       "      <td>This huge sunny ,plenty of lights 1 bed/2 bath...</td>\n",
       "      <td>West 21st Street</td>\n",
       "      <td>[Doorman, Elevator, Pre-War, Terrace, Laundry ...</td>\n",
       "      <td>low</td>\n",
       "      <td>40.7427</td>\n",
       "      <td>6867392</td>\n",
       "      <td>-73.9957</td>\n",
       "      <td>e6472c7237327dd3903b3d6f6a94515a</td>\n",
       "      <td>[https://photos.renthop.com/2/6867392_b18283f6...</td>\n",
       "      <td>5645</td>\n",
       "      <td>155 West 21st Street</td>\n",
       "    </tr>\n",
       "    <tr>\n",
       "      <th>100026</th>\n",
       "      <td>1.0</td>\n",
       "      <td>1</td>\n",
       "      <td>a7efbeb58190aa267b4a9121cd0c88c0</td>\n",
       "      <td>2016-04-20 02:36:35</td>\n",
       "      <td>&lt;p&gt;&lt;a  website_redacted</td>\n",
       "      <td>Hamilton Terrace</td>\n",
       "      <td>[Cats Allowed, Dogs Allowed, Elevator, Laundry...</td>\n",
       "      <td>medium</td>\n",
       "      <td>40.8234</td>\n",
       "      <td>6898799</td>\n",
       "      <td>-73.9457</td>\n",
       "      <td>c1a6598437b7db560cde66e5a297a53f</td>\n",
       "      <td>[https://photos.renthop.com/2/6898799_3759be4c...</td>\n",
       "      <td>1725</td>\n",
       "      <td>63 Hamilton Terrace</td>\n",
       "    </tr>\n",
       "    <tr>\n",
       "      <th>100027</th>\n",
       "      <td>2.0</td>\n",
       "      <td>4</td>\n",
       "      <td>0</td>\n",
       "      <td>2016-04-02 02:58:15</td>\n",
       "      <td>This is a spacious four bedroom with every bed...</td>\n",
       "      <td>522 E 11th</td>\n",
       "      <td>[Dishwasher, Hardwood Floors]</td>\n",
       "      <td>low</td>\n",
       "      <td>40.7278</td>\n",
       "      <td>6814332</td>\n",
       "      <td>-73.9808</td>\n",
       "      <td>23a01ea7717b38875f5b070282d1b9d2</td>\n",
       "      <td>[https://photos.renthop.com/2/6814332_e19a8552...</td>\n",
       "      <td>5800</td>\n",
       "      <td>522 E 11th</td>\n",
       "    </tr>\n",
       "  </tbody>\n",
       "</table>\n",
       "</div>"
      ],
      "text/plain": [
       "        bathrooms  bedrooms                       building_id  \\\n",
       "10            1.5         3  53a5b119ba8f7b61d4e010512e0dfc85   \n",
       "10000         1.0         2  c5c8a357cba207596b04d1afd1e4f130   \n",
       "100004        1.0         1  c3ba40552e2120b0acfc3cb5730bb2aa   \n",
       "100007        1.0         1  28d9ad350afeaab8027513a3e52ac8d5   \n",
       "100013        1.0         4                                 0   \n",
       "100014        2.0         4  38a913e46c94a7f46ddf19b756a9640c   \n",
       "100016        1.0         2  3ba49a93260ca5df92fde024cb4ca61f   \n",
       "100020        2.0         1  0372927bcb6a0949613ef5bf893bbac7   \n",
       "100026        1.0         1  a7efbeb58190aa267b4a9121cd0c88c0   \n",
       "100027        2.0         4                                 0   \n",
       "\n",
       "                    created  \\\n",
       "10      2016-06-24 07:54:24   \n",
       "10000   2016-06-12 12:19:27   \n",
       "100004  2016-04-17 03:26:41   \n",
       "100007  2016-04-18 02:22:02   \n",
       "100013  2016-04-28 01:32:41   \n",
       "100014  2016-04-19 04:24:47   \n",
       "100016  2016-04-27 03:19:56   \n",
       "100020  2016-04-13 06:01:42   \n",
       "100026  2016-04-20 02:36:35   \n",
       "100027  2016-04-02 02:58:15   \n",
       "\n",
       "                                              description  \\\n",
       "10      A Brand New 3 Bedroom 1.5 bath ApartmentEnjoy ...   \n",
       "10000                                                       \n",
       "100004  Top Top West Village location, beautiful Pre-w...   \n",
       "100007  Building Amenities - Garage - Garden - fitness...   \n",
       "100013  Beautifully renovated 3 bedroom flex 4 bedroom...   \n",
       "100014                                                      \n",
       "100016  Stunning unit with a great location and lots o...   \n",
       "100020  This huge sunny ,plenty of lights 1 bed/2 bath...   \n",
       "100026                           <p><a  website_redacted    \n",
       "100027  This is a spacious four bedroom with every bed...   \n",
       "\n",
       "            display_address  \\\n",
       "10      Metropolitan Avenue   \n",
       "10000       Columbus Avenue   \n",
       "100004          W 13 Street   \n",
       "100007     East 49th Street   \n",
       "100013    West 143rd Street   \n",
       "100014     West 18th Street   \n",
       "100016    West 107th Street   \n",
       "100020     West 21st Street   \n",
       "100026     Hamilton Terrace   \n",
       "100027           522 E 11th   \n",
       "\n",
       "                                                 features interest_level  \\\n",
       "10                                                     []         medium   \n",
       "10000   [Doorman, Elevator, Fitness Center, Cats Allow...            low   \n",
       "100004  [Laundry In Building, Dishwasher, Hardwood Flo...           high   \n",
       "100007                          [Hardwood Floors, No Fee]            low   \n",
       "100013                                          [Pre-War]            low   \n",
       "100014                                                 []         medium   \n",
       "100016  [prewar, elevator, Dogs Allowed, Cats Allowed,...            low   \n",
       "100020  [Doorman, Elevator, Pre-War, Terrace, Laundry ...            low   \n",
       "100026  [Cats Allowed, Dogs Allowed, Elevator, Laundry...         medium   \n",
       "100027                      [Dishwasher, Hardwood Floors]            low   \n",
       "\n",
       "        latitude  listing_id  longitude                        manager_id  \\\n",
       "10       40.7145     7211212   -73.9425  5ba989232d0489da1b5f2c45f6688adc   \n",
       "10000    40.7947     7150865   -73.9667  7533621a882f71e25173b27e3139d83d   \n",
       "100004   40.7388     6887163   -74.0018  d9039c43983f6e564b1482b273bd7b01   \n",
       "100007   40.7539     6888711   -73.9677  1067e078446a7897d2da493d2f741316   \n",
       "100013   40.8241     6934781   -73.9493  98e13ad4b495b9613cef886d79a6291f   \n",
       "100014   40.7429     6894514   -74.0028  b209e2c4384a64cc307c26759ee0c651   \n",
       "100016   40.8012     6930771   -73.9660  01287194f20de51872e81f660def4784   \n",
       "100020   40.7427     6867392   -73.9957  e6472c7237327dd3903b3d6f6a94515a   \n",
       "100026   40.8234     6898799   -73.9457  c1a6598437b7db560cde66e5a297a53f   \n",
       "100027   40.7278     6814332   -73.9808  23a01ea7717b38875f5b070282d1b9d2   \n",
       "\n",
       "                                                   photos  price  \\\n",
       "10      [https://photos.renthop.com/2/7211212_1ed4542e...   3000   \n",
       "10000   [https://photos.renthop.com/2/7150865_be3306c5...   5465   \n",
       "100004  [https://photos.renthop.com/2/6887163_de85c427...   2850   \n",
       "100007  [https://photos.renthop.com/2/6888711_6e660cee...   3275   \n",
       "100013  [https://photos.renthop.com/2/6934781_1fa4b41a...   3350   \n",
       "100014  [https://photos.renthop.com/2/6894514_9abb8592...   7995   \n",
       "100016  [https://photos.renthop.com/2/6930771_7e3622b6...   3600   \n",
       "100020  [https://photos.renthop.com/2/6867392_b18283f6...   5645   \n",
       "100026  [https://photos.renthop.com/2/6898799_3759be4c...   1725   \n",
       "100027  [https://photos.renthop.com/2/6814332_e19a8552...   5800   \n",
       "\n",
       "                 street_address  \n",
       "10      792 Metropolitan Avenue  \n",
       "10000       808 Columbus Avenue  \n",
       "100004          241 W 13 Street  \n",
       "100007     333 East 49th Street  \n",
       "100013    500 West 143rd Street  \n",
       "100014     350 West 18th Street  \n",
       "100016    210 West 107th Street  \n",
       "100020     155 West 21st Street  \n",
       "100026      63 Hamilton Terrace  \n",
       "100027               522 E 11th  "
      ]
     },
     "execution_count": 3,
     "metadata": {},
     "output_type": "execute_result"
    }
   ],
   "source": [
    "train_df.head(10)"
   ]
  },
  {
   "cell_type": "code",
   "execution_count": 4,
   "metadata": {},
   "outputs": [
    {
     "data": {
      "text/plain": [
       "(49352, 15)"
      ]
     },
     "execution_count": 4,
     "metadata": {},
     "output_type": "execute_result"
    }
   ],
   "source": [
    "train_df.shape\n"
   ]
  },
  {
   "cell_type": "code",
   "execution_count": 5,
   "metadata": {
    "collapsed": true
   },
   "outputs": [],
   "source": [
    "int_level=train_df['interest_level'].value_counts()"
   ]
  },
  {
   "cell_type": "code",
   "execution_count": 6,
   "metadata": {},
   "outputs": [
    {
     "data": {
      "text/plain": [
       "<matplotlib.text.Text at 0x1471e8668>"
      ]
     },
     "execution_count": 6,
     "metadata": {},
     "output_type": "execute_result"
    },
    {
     "data": {
      "image/png": "[encoded data removed]",
      "text/plain": [
       "<matplotlib.figure.Figure at 0x1471eb668>"
      ]
     },
     "metadata": {},
     "output_type": "display_data"
    }
   ],
   "source": [
    "plt.figure(figsize=(10,6))\n",
    "\n",
    "sns.barplot(int_level.index, int_level.values, alpha=0.8, color=color[1])\n",
    "\n",
    "plt.ylabel(\"Number of occurences\", fontsize=12)\n",
    "\n",
    "plt.xlabel('Interest level', fontsize=12)"
   ]
  },
  {
   "cell_type": "code",
   "execution_count": 7,
   "metadata": {},
   "outputs": [
    {
     "data": {
      "text/plain": [
       "<matplotlib.text.Text at 0x1471baba8>"
      ]
     },
     "execution_count": 7,
     "metadata": {},
     "output_type": "execute_result"
    },
    {
     "data": {
      "image/png": "[encoded data removed]",
      "text/plain": [
       "<matplotlib.figure.Figure at 0x1471c5ba8>"
      ]
     },
     "metadata": {},
     "output_type": "display_data"
    }
   ],
   "source": [
    "#Exploring the feature bathroom\n",
    "\n",
    "count_srs= train_df['bathrooms'].value_counts()\n",
    "plt.figure(figsize=(10,6))\n",
    "sns.barplot(count_srs.index, count_srs.values,alpha=0.8, color=color[0])\n",
    "\n",
    "plt.xlabel('bathrooms', fontsize=12)\n",
    "plt.ylabel('Number of occurences', fontsize=12)\n"
   ]
  },
  {
   "cell_type": "code",
   "execution_count": 8,
   "metadata": {},
   "outputs": [
    {
     "name": "stderr",
     "output_type": "stream",
     "text": [
      "/Users/krutarthmajithia/anaconda/lib/python3.6/site-packages/pandas/core/indexing.py:179: SettingWithCopyWarning: \n",
      "A value is trying to be set on a copy of a slice from a DataFrame\n",
      "\n",
      "See the caveats in the documentation: http://pandas.pydata.org/pandas-docs/stable/indexing.html#indexing-view-versus-copy\n",
      "  self._setitem_with_indexer(indexer, value)\n"
     ]
    },
    {
     "data": {
      "text/plain": [
       "<matplotlib.text.Text at 0x146ee4048>"
      ]
     },
     "execution_count": 8,
     "metadata": {},
     "output_type": "execute_result"
    },
    {
     "data": {
      "image/png": "[encoded data removed]",
      "text/plain": [
       "<matplotlib.figure.Figure at 0x14719fba8>"
      ]
     },
     "metadata": {},
     "output_type": "display_data"
    }
   ],
   "source": [
    "train_df['bathrooms'].loc[train_df['bathrooms']>3]=3\n",
    "\n",
    "plt.figure(figsize=(8,4))\n",
    "sns.violinplot(x='interest_level', y='bathrooms', data=train_df)\n",
    "plt.xlabel('Interest level', fontsize=12)\n",
    "plt.ylabel('bathrooms', fontsize=12)"
   ]
  },
  {
   "cell_type": "code",
   "execution_count": 9,
   "metadata": {},
   "outputs": [
    {
     "data": {
      "text/plain": [
       "<matplotlib.text.Text at 0x146eb4cf8>"
      ]
     },
     "execution_count": 9,
     "metadata": {},
     "output_type": "execute_result"
    },
    {
     "data": {
      "image/png": "[encoded data removed]",
      "text/plain": [
       "<matplotlib.figure.Figure at 0x146eba748>"
      ]
     },
     "metadata": {},
     "output_type": "display_data"
    }
   ],
   "source": [
    "#Exploring the bedrooms\n",
    "\n",
    "count_srs= train_df['bedrooms'].value_counts()\n",
    "\n",
    "plt.figure(figsize=(10,6))\n",
    "sns.barplot(count_srs.index, count_srs.values, alpha=0.8, color=color[2])\n",
    "\n",
    "plt.xlabel('bedrooms', fontsize=12)\n",
    "plt.ylabel('Number of occurrences', fontsize=12)"
   ]
  },
  {
   "cell_type": "code",
   "execution_count": 10,
   "metadata": {},
   "outputs": [
    {
     "data": {
      "text/plain": [
       "<matplotlib.text.Text at 0x146e78cf8>"
      ]
     },
     "execution_count": 10,
     "metadata": {},
     "output_type": "execute_result"
    },
    {
     "data": {
      "image/png": "[encoded data removed]",
      "text/plain": [
       "<matplotlib.figure.Figure at 0x146ef6eb8>"
      ]
     },
     "metadata": {},
     "output_type": "display_data"
    }
   ],
   "source": [
    "plt.figure(figsize=(8,6))\n",
    "\n",
    "sns.countplot(x='bedrooms', hue='interest_level', data=train_df)\n",
    "plt.ylabel('Number of occurences', fontsize=12)\n",
    "plt.xlabel('Bedrooms', fontsize=12)\n"
   ]
  },
  {
   "cell_type": "code",
   "execution_count": 11,
   "metadata": {},
   "outputs": [
    {
     "data": {
      "text/plain": [
       "<matplotlib.text.Text at 0x146e4b3c8>"
      ]
     },
     "execution_count": 11,
     "metadata": {},
     "output_type": "execute_result"
    },
    {
     "data": {
      "image/png": "[encoded data removed]",
      "text/plain": [
       "<matplotlib.figure.Figure at 0x146e33438>"
      ]
     },
     "metadata": {},
     "output_type": "display_data"
    }
   ],
   "source": [
    "#Now we explore the Price feature\n",
    "\n",
    "plt.figure(figsize=(10,8))\n",
    "plt.scatter(range(train_df.shape[0]), np.sort(train_df.price.values))\n",
    "plt.ylabel('price',fontsize=12)\n",
    "plt.xlabel('index', fontsize=12)"
   ]
  },
  {
   "cell_type": "code",
   "execution_count": 12,
   "metadata": {},
   "outputs": [
    {
     "name": "stderr",
     "output_type": "stream",
     "text": [
      "/Users/krutarthmajithia/anaconda/lib/python3.6/site-packages/pandas/core/indexing.py:179: SettingWithCopyWarning: \n",
      "A value is trying to be set on a copy of a slice from a DataFrame\n",
      "\n",
      "See the caveats in the documentation: http://pandas.pydata.org/pandas-docs/stable/indexing.html#indexing-view-versus-copy\n",
      "  self._setitem_with_indexer(indexer, value)\n"
     ]
    },
    {
     "data": {
      "text/plain": [
       "<matplotlib.text.Text at 0x146eaf828>"
      ]
     },
     "execution_count": 12,
     "metadata": {},
     "output_type": "execute_result"
    },
    {
     "data": {
      "image/png": "[encoded data removed]",
      "text/plain": [
       "<matplotlib.figure.Figure at 0x146e3f278>"
      ]
     },
     "metadata": {},
     "output_type": "display_data"
    }
   ],
   "source": [
    "#From the graph we see some outliers. Hence we will remove these outliers\n",
    "#First we determine the 99th percentile of the price values\n",
    "\n",
    "ulimit= np.percentile(train_df.price.values, 99)\n",
    "train_df['price'].loc[train_df['price']>ulimit]=ulimit\n",
    "\n",
    "plt.figure(figsize=(10,8))\n",
    "\n",
    "sns.distplot(train_df.price.values, bins=50, kde=True)\n",
    "plt.xlabel(\"price\", fontsize=12)\n"
   ]
  },
  {
   "cell_type": "code",
   "execution_count": 13,
   "metadata": {},
   "outputs": [
    {
     "name": "stderr",
     "output_type": "stream",
     "text": [
      "/Users/krutarthmajithia/anaconda/lib/python3.6/site-packages/pandas/core/indexing.py:179: SettingWithCopyWarning: \n",
      "A value is trying to be set on a copy of a slice from a DataFrame\n",
      "\n",
      "See the caveats in the documentation: http://pandas.pydata.org/pandas-docs/stable/indexing.html#indexing-view-versus-copy\n",
      "  self._setitem_with_indexer(indexer, value)\n"
     ]
    },
    {
     "data": {
      "text/plain": [
       "<matplotlib.text.Text at 0x146dd03c8>"
      ]
     },
     "execution_count": 13,
     "metadata": {},
     "output_type": "execute_result"
    },
    {
     "data": {
      "image/png": "[encoded data removed]",
      "text/plain": [
       "<matplotlib.figure.Figure at 0x146da4208>"
      ]
     },
     "metadata": {},
     "output_type": "display_data"
    }
   ],
   "source": [
    "# Now we will explore the Latitude and the Longitude values.\n",
    "\n",
    "llimit= np.percentile(train_df.latitude.values,1)\n",
    "ulimit= np.percentile(train_df.latitude.values,99)\n",
    "\n",
    "train_df['latitude'].loc[train_df['latitude']<llimit]=llimit\n",
    "train_df['latitude'].loc[train_df['latitude']>ulimit]=ulimit\n",
    "\n",
    "plt.figure(figsize=(10,8))\n",
    "sns.distplot(train_df.latitude.values, bins=50, kde=False)\n",
    "plt.xlabel('latitude', fontsize=12)"
   ]
  },
  {
   "cell_type": "code",
   "execution_count": 14,
   "metadata": {},
   "outputs": [
    {
     "name": "stderr",
     "output_type": "stream",
     "text": [
      "/Users/krutarthmajithia/anaconda/lib/python3.6/site-packages/pandas/core/indexing.py:179: SettingWithCopyWarning: \n",
      "A value is trying to be set on a copy of a slice from a DataFrame\n",
      "\n",
      "See the caveats in the documentation: http://pandas.pydata.org/pandas-docs/stable/indexing.html#indexing-view-versus-copy\n",
      "  self._setitem_with_indexer(indexer, value)\n"
     ]
    },
    {
     "data": {
      "text/plain": [
       "<matplotlib.text.Text at 0x146d6c358>"
      ]
     },
     "execution_count": 14,
     "metadata": {},
     "output_type": "execute_result"
    },
    {
     "data": {
      "image/png": "[encoded data removed]",
      "text/plain": [
       "<matplotlib.figure.Figure at 0x146df33c8>"
      ]
     },
     "metadata": {},
     "output_type": "display_data"
    }
   ],
   "source": [
    "llimit= np.percentile(train_df.longitude.values,1)\n",
    "ulimit= np.percentile(train_df.longitude.values,99)\n",
    "\n",
    "train_df['longitude'].loc[train_df['longitude']<llimit]=llimit\n",
    "train_df['longitude'].loc[train_df['longitude']>ulimit]=ulimit\n",
    "\n",
    "plt.figure(figsize=(10,8))\n",
    "sns.distplot(train_df.longitude.values, bins=50, kde=False)\n",
    "plt.xlabel('longitude', fontsize=12)"
   ]
  },
  {
   "cell_type": "code",
   "execution_count": 15,
   "metadata": {},
   "outputs": [
    {
     "data": {
      "text/plain": [
       "(array([736064., 736078., 736092., 736106., 736120., 736134., 736148.]),\n",
       " <a list of 7 Text xticklabel objects>)"
      ]
     },
     "execution_count": 15,
     "metadata": {},
     "output_type": "execute_result"
    },
    {
     "data": {
      "image/png": "[encoded data removed]",
      "text/plain": [
       "<matplotlib.figure.Figure at 0x146ef42e8>"
      ]
     },
     "metadata": {},
     "output_type": "display_data"
    }
   ],
   "source": [
    "#After checking the numerical features, we explore the date features of the training set and the test set\n",
    "# to determine whether the data in both the sets are consistent to each other\n",
    "\n",
    "train_df['created']=pd.to_datetime(train_df['created'])\n",
    "train_df['date_created']= train_df['created'].dt.date\n",
    "\n",
    "count_srs= train_df['date_created'].value_counts()\n",
    "\n",
    "plt.figure(figsize=(12,6))\n",
    "ax=plt.subplot(111)\n",
    "\n",
    "ax.bar(count_srs.index, count_srs.values, alpha=0.8)\n",
    "\n",
    "ax.xaxis_date()\n",
    "\n",
    "plt.xticks(rotation='vertical')\n",
    "\n",
    "\n"
   ]
  },
  {
   "cell_type": "code",
   "execution_count": 16,
   "metadata": {
    "collapsed": true
   },
   "outputs": [],
   "source": [
    "test_df=pd.read_json('/users/krutarthmajithia/downloads/test.json')"
   ]
  },
  {
   "cell_type": "code",
   "execution_count": 17,
   "metadata": {},
   "outputs": [
    {
     "data": {
      "text/html": [
       "<div>\n",
       "<style>\n",
       "    .dataframe thead tr:only-child th {\n",
       "        text-align: right;\n",
       "    }\n",
       "\n",
       "    .dataframe thead th {\n",
       "        text-align: left;\n",
       "    }\n",
       "\n",
       "    .dataframe tbody tr th {\n",
       "        vertical-align: top;\n",
       "    }\n",
       "</style>\n",
       "<table border=\"1\" class=\"dataframe\">\n",
       "  <thead>\n",
       "    <tr style=\"text-align: right;\">\n",
       "      <th></th>\n",
       "      <th>bathrooms</th>\n",
       "      <th>bedrooms</th>\n",
       "      <th>building_id</th>\n",
       "      <th>created</th>\n",
       "      <th>description</th>\n",
       "      <th>display_address</th>\n",
       "      <th>features</th>\n",
       "      <th>latitude</th>\n",
       "      <th>listing_id</th>\n",
       "      <th>longitude</th>\n",
       "      <th>manager_id</th>\n",
       "      <th>photos</th>\n",
       "      <th>price</th>\n",
       "      <th>street_address</th>\n",
       "    </tr>\n",
       "  </thead>\n",
       "  <tbody>\n",
       "    <tr>\n",
       "      <th>0</th>\n",
       "      <td>1.0</td>\n",
       "      <td>1</td>\n",
       "      <td>79780be1514f645d7e6be99a3de696c5</td>\n",
       "      <td>2016-06-11 05:29:41</td>\n",
       "      <td>Large with awesome terrace--accessible via bed...</td>\n",
       "      <td>Suffolk Street</td>\n",
       "      <td>[Elevator, Laundry in Building, Laundry in Uni...</td>\n",
       "      <td>40.7185</td>\n",
       "      <td>7142618</td>\n",
       "      <td>-73.9865</td>\n",
       "      <td>b1b1852c416d78d7765d746cb1b8921f</td>\n",
       "      <td>[https://photos.renthop.com/2/7142618_1c45a2c8...</td>\n",
       "      <td>2950</td>\n",
       "      <td>99 Suffolk Street</td>\n",
       "    </tr>\n",
       "    <tr>\n",
       "      <th>1</th>\n",
       "      <td>1.0</td>\n",
       "      <td>2</td>\n",
       "      <td>0</td>\n",
       "      <td>2016-06-24 06:36:34</td>\n",
       "      <td>Prime Soho - between Bleecker and Houston - Ne...</td>\n",
       "      <td>Thompson Street</td>\n",
       "      <td>[Pre-War, Dogs Allowed, Cats Allowed]</td>\n",
       "      <td>40.7278</td>\n",
       "      <td>7210040</td>\n",
       "      <td>-74.0000</td>\n",
       "      <td>d0b5648017832b2427eeb9956d966a14</td>\n",
       "      <td>[https://photos.renthop.com/2/7210040_d824cc71...</td>\n",
       "      <td>2850</td>\n",
       "      <td>176 Thompson Street</td>\n",
       "    </tr>\n",
       "    <tr>\n",
       "      <th>100</th>\n",
       "      <td>1.0</td>\n",
       "      <td>1</td>\n",
       "      <td>3dbbb69fd52e0d25131aa1cd459c87eb</td>\n",
       "      <td>2016-06-03 04:29:40</td>\n",
       "      <td>New York chic has reached a new level ...</td>\n",
       "      <td>101 East 10th Street</td>\n",
       "      <td>[Doorman, Elevator, No Fee]</td>\n",
       "      <td>40.7306</td>\n",
       "      <td>7103890</td>\n",
       "      <td>-73.9890</td>\n",
       "      <td>9ca6f3baa475c37a3b3521a394d65467</td>\n",
       "      <td>[https://photos.renthop.com/2/7103890_85b33077...</td>\n",
       "      <td>3758</td>\n",
       "      <td>101 East 10th Street</td>\n",
       "    </tr>\n",
       "    <tr>\n",
       "      <th>1000</th>\n",
       "      <td>1.0</td>\n",
       "      <td>2</td>\n",
       "      <td>783d21d013a7e655bddc4ed0d461cc5e</td>\n",
       "      <td>2016-06-11 06:17:35</td>\n",
       "      <td>Step into this fantastic new Construction in t...</td>\n",
       "      <td>South Third Street\\r</td>\n",
       "      <td>[Roof Deck, Balcony, Elevator, Laundry in Buil...</td>\n",
       "      <td>40.7109</td>\n",
       "      <td>7143442</td>\n",
       "      <td>-73.9571</td>\n",
       "      <td>0b9d5db96db8472d7aeb67c67338c4d2</td>\n",
       "      <td>[https://photos.renthop.com/2/7143442_0879e9e0...</td>\n",
       "      <td>3300</td>\n",
       "      <td>251  South Third Street\\r</td>\n",
       "    </tr>\n",
       "    <tr>\n",
       "      <th>100000</th>\n",
       "      <td>2.0</td>\n",
       "      <td>2</td>\n",
       "      <td>6134e7c4dd1a98d9aee36623c9872b49</td>\n",
       "      <td>2016-04-12 05:24:17</td>\n",
       "      <td>~Take a stroll in Central Park, enjoy the ente...</td>\n",
       "      <td>Midtown West, 8th Ave</td>\n",
       "      <td>[Common Outdoor Space, Cats Allowed, Dogs Allo...</td>\n",
       "      <td>40.7650</td>\n",
       "      <td>6860601</td>\n",
       "      <td>-73.9845</td>\n",
       "      <td>b5eda0eb31b042ce2124fd9e9fcfce2f</td>\n",
       "      <td>[https://photos.renthop.com/2/6860601_c96164d8...</td>\n",
       "      <td>4900</td>\n",
       "      <td>260 West 54th Street</td>\n",
       "    </tr>\n",
       "    <tr>\n",
       "      <th>100001</th>\n",
       "      <td>3.0</td>\n",
       "      <td>3</td>\n",
       "      <td>9d1a51a5df4f0b5650b46da8e5ad6910</td>\n",
       "      <td>2016-04-07 06:14:43</td>\n",
       "      <td>In a boutique prewar building with 24 hour doo...</td>\n",
       "      <td>Wea</td>\n",
       "      <td>[Fireplace, Dining Room, Doorman, Elevator, La...</td>\n",
       "      <td>40.7901</td>\n",
       "      <td>6840081</td>\n",
       "      <td>-73.9774</td>\n",
       "      <td>964dc31a872efa33fee9af11f62e843c</td>\n",
       "      <td>[https://photos.renthop.com/2/6840081_ec339bca...</td>\n",
       "      <td>9000</td>\n",
       "      <td>575 Wea</td>\n",
       "    </tr>\n",
       "    <tr>\n",
       "      <th>100002</th>\n",
       "      <td>1.0</td>\n",
       "      <td>2</td>\n",
       "      <td>80d7355b09295b4c850132f8831f44df</td>\n",
       "      <td>2016-04-25 03:07:55</td>\n",
       "      <td>WHY PAY OTHER BROKERS 15% FOR A GREAT APARTMEN...</td>\n",
       "      <td>E 78th St.</td>\n",
       "      <td>[Hardwood Floors, New Construction]</td>\n",
       "      <td>40.7730</td>\n",
       "      <td>6922337</td>\n",
       "      <td>-73.9571</td>\n",
       "      <td>4f9b376a972b863bbfbdcdc8d717fa4e</td>\n",
       "      <td>[https://photos.renthop.com/2/6922337_bb9a16ba...</td>\n",
       "      <td>2800</td>\n",
       "      <td>220 E 78th St.</td>\n",
       "    </tr>\n",
       "    <tr>\n",
       "      <th>100003</th>\n",
       "      <td>1.0</td>\n",
       "      <td>0</td>\n",
       "      <td>0</td>\n",
       "      <td>2016-04-22 06:13:49</td>\n",
       "      <td>- Spectacular renovated studio in restored tow...</td>\n",
       "      <td>Saint Marks Ave</td>\n",
       "      <td>[Fireplace, Pre-War, Laundry in Building, Dish...</td>\n",
       "      <td>40.6751</td>\n",
       "      <td>6913616</td>\n",
       "      <td>-73.9511</td>\n",
       "      <td>0cef44deaab7ace783c77a061c043c2b</td>\n",
       "      <td>[https://photos.renthop.com/2/6913616_9e32fc00...</td>\n",
       "      <td>1900</td>\n",
       "      <td>678 Saint Marks Ave</td>\n",
       "    </tr>\n",
       "    <tr>\n",
       "      <th>100005</th>\n",
       "      <td>1.0</td>\n",
       "      <td>2</td>\n",
       "      <td>408d54e3447c52bb06a3f882b4d1d8c3</td>\n",
       "      <td>2016-04-28 05:32:45</td>\n",
       "      <td>Beautiful 2Br apartment with Cherry hardwood f...</td>\n",
       "      <td>West 43rd Street</td>\n",
       "      <td>[Dogs Allowed, Cats Allowed]</td>\n",
       "      <td>40.7597</td>\n",
       "      <td>6937820</td>\n",
       "      <td>-73.9929</td>\n",
       "      <td>e6472c7237327dd3903b3d6f6a94515a</td>\n",
       "      <td>[https://photos.renthop.com/2/6937820_9ce4de26...</td>\n",
       "      <td>3000</td>\n",
       "      <td>417-419 West 43rd Street</td>\n",
       "    </tr>\n",
       "    <tr>\n",
       "      <th>100006</th>\n",
       "      <td>1.0</td>\n",
       "      <td>0</td>\n",
       "      <td>7c25a2db9e96160f1441808896eb403a</td>\n",
       "      <td>2016-04-19 03:25:02</td>\n",
       "      <td>Hardwood Floors&lt;br/&gt;&lt;br/&gt;EXPOSED BRICK&lt;br/&gt;&lt;br...</td>\n",
       "      <td>Orchard Street</td>\n",
       "      <td>[Loft, Hardwood Floors]</td>\n",
       "      <td>40.7208</td>\n",
       "      <td>6893933</td>\n",
       "      <td>-73.9887</td>\n",
       "      <td>18464b5400971c49bfd12a59c5477174</td>\n",
       "      <td>[https://photos.renthop.com/2/6893933_29727269...</td>\n",
       "      <td>2300</td>\n",
       "      <td>154 Orchard Street</td>\n",
       "    </tr>\n",
       "  </tbody>\n",
       "</table>\n",
       "</div>"
      ],
      "text/plain": [
       "        bathrooms  bedrooms                       building_id  \\\n",
       "0             1.0         1  79780be1514f645d7e6be99a3de696c5   \n",
       "1             1.0         2                                 0   \n",
       "100           1.0         1  3dbbb69fd52e0d25131aa1cd459c87eb   \n",
       "1000          1.0         2  783d21d013a7e655bddc4ed0d461cc5e   \n",
       "100000        2.0         2  6134e7c4dd1a98d9aee36623c9872b49   \n",
       "100001        3.0         3  9d1a51a5df4f0b5650b46da8e5ad6910   \n",
       "100002        1.0         2  80d7355b09295b4c850132f8831f44df   \n",
       "100003        1.0         0                                 0   \n",
       "100005        1.0         2  408d54e3447c52bb06a3f882b4d1d8c3   \n",
       "100006        1.0         0  7c25a2db9e96160f1441808896eb403a   \n",
       "\n",
       "                    created  \\\n",
       "0       2016-06-11 05:29:41   \n",
       "1       2016-06-24 06:36:34   \n",
       "100     2016-06-03 04:29:40   \n",
       "1000    2016-06-11 06:17:35   \n",
       "100000  2016-04-12 05:24:17   \n",
       "100001  2016-04-07 06:14:43   \n",
       "100002  2016-04-25 03:07:55   \n",
       "100003  2016-04-22 06:13:49   \n",
       "100005  2016-04-28 05:32:45   \n",
       "100006  2016-04-19 03:25:02   \n",
       "\n",
       "                                              description  \\\n",
       "0       Large with awesome terrace--accessible via bed...   \n",
       "1       Prime Soho - between Bleecker and Houston - Ne...   \n",
       "100             New York chic has reached a new level ...   \n",
       "1000    Step into this fantastic new Construction in t...   \n",
       "100000  ~Take a stroll in Central Park, enjoy the ente...   \n",
       "100001  In a boutique prewar building with 24 hour doo...   \n",
       "100002  WHY PAY OTHER BROKERS 15% FOR A GREAT APARTMEN...   \n",
       "100003  - Spectacular renovated studio in restored tow...   \n",
       "100005  Beautiful 2Br apartment with Cherry hardwood f...   \n",
       "100006  Hardwood Floors<br/><br/>EXPOSED BRICK<br/><br...   \n",
       "\n",
       "              display_address  \\\n",
       "0              Suffolk Street   \n",
       "1             Thompson Street   \n",
       "100      101 East 10th Street   \n",
       "1000     South Third Street\\r   \n",
       "100000  Midtown West, 8th Ave   \n",
       "100001                    Wea   \n",
       "100002             E 78th St.   \n",
       "100003        Saint Marks Ave   \n",
       "100005       West 43rd Street   \n",
       "100006         Orchard Street   \n",
       "\n",
       "                                                 features  latitude  \\\n",
       "0       [Elevator, Laundry in Building, Laundry in Uni...   40.7185   \n",
       "1                   [Pre-War, Dogs Allowed, Cats Allowed]   40.7278   \n",
       "100                           [Doorman, Elevator, No Fee]   40.7306   \n",
       "1000    [Roof Deck, Balcony, Elevator, Laundry in Buil...   40.7109   \n",
       "100000  [Common Outdoor Space, Cats Allowed, Dogs Allo...   40.7650   \n",
       "100001  [Fireplace, Dining Room, Doorman, Elevator, La...   40.7901   \n",
       "100002                [Hardwood Floors, New Construction]   40.7730   \n",
       "100003  [Fireplace, Pre-War, Laundry in Building, Dish...   40.6751   \n",
       "100005                       [Dogs Allowed, Cats Allowed]   40.7597   \n",
       "100006                            [Loft, Hardwood Floors]   40.7208   \n",
       "\n",
       "        listing_id  longitude                        manager_id  \\\n",
       "0          7142618   -73.9865  b1b1852c416d78d7765d746cb1b8921f   \n",
       "1          7210040   -74.0000  d0b5648017832b2427eeb9956d966a14   \n",
       "100        7103890   -73.9890  9ca6f3baa475c37a3b3521a394d65467   \n",
       "1000       7143442   -73.9571  0b9d5db96db8472d7aeb67c67338c4d2   \n",
       "100000     6860601   -73.9845  b5eda0eb31b042ce2124fd9e9fcfce2f   \n",
       "100001     6840081   -73.9774  964dc31a872efa33fee9af11f62e843c   \n",
       "100002     6922337   -73.9571  4f9b376a972b863bbfbdcdc8d717fa4e   \n",
       "100003     6913616   -73.9511  0cef44deaab7ace783c77a061c043c2b   \n",
       "100005     6937820   -73.9929  e6472c7237327dd3903b3d6f6a94515a   \n",
       "100006     6893933   -73.9887  18464b5400971c49bfd12a59c5477174   \n",
       "\n",
       "                                                   photos  price  \\\n",
       "0       [https://photos.renthop.com/2/7142618_1c45a2c8...   2950   \n",
       "1       [https://photos.renthop.com/2/7210040_d824cc71...   2850   \n",
       "100     [https://photos.renthop.com/2/7103890_85b33077...   3758   \n",
       "1000    [https://photos.renthop.com/2/7143442_0879e9e0...   3300   \n",
       "100000  [https://photos.renthop.com/2/6860601_c96164d8...   4900   \n",
       "100001  [https://photos.renthop.com/2/6840081_ec339bca...   9000   \n",
       "100002  [https://photos.renthop.com/2/6922337_bb9a16ba...   2800   \n",
       "100003  [https://photos.renthop.com/2/6913616_9e32fc00...   1900   \n",
       "100005  [https://photos.renthop.com/2/6937820_9ce4de26...   3000   \n",
       "100006  [https://photos.renthop.com/2/6893933_29727269...   2300   \n",
       "\n",
       "                   street_address  \n",
       "0               99 Suffolk Street  \n",
       "1             176 Thompson Street  \n",
       "100          101 East 10th Street  \n",
       "1000    251  South Third Street\\r  \n",
       "100000       260 West 54th Street  \n",
       "100001                    575 Wea  \n",
       "100002             220 E 78th St.  \n",
       "100003        678 Saint Marks Ave  \n",
       "100005   417-419 West 43rd Street  \n",
       "100006         154 Orchard Street  "
      ]
     },
     "execution_count": 17,
     "metadata": {},
     "output_type": "execute_result"
    }
   ],
   "source": [
    "test_df.head(10)"
   ]
  },
  {
   "cell_type": "code",
   "execution_count": 18,
   "metadata": {},
   "outputs": [
    {
     "data": {
      "text/plain": [
       "(array([736064., 736078., 736092., 736106., 736120., 736134., 736148.]),\n",
       " <a list of 7 Text xticklabel objects>)"
      ]
     },
     "execution_count": 18,
     "metadata": {},
     "output_type": "execute_result"
    },
    {
     "data": {
      "image/png": "[encoded data removed]",
      "text/plain": [
       "<matplotlib.figure.Figure at 0x1471edac8>"
      ]
     },
     "metadata": {},
     "output_type": "display_data"
    }
   ],
   "source": [
    "test_df['created']=pd.to_datetime(test_df['created'])\n",
    "test_df['date_created']= test_df['created'].dt.date\n",
    "\n",
    "count_srs= test_df['date_created'].value_counts()\n",
    "\n",
    "plt.figure(figsize=(12,6))\n",
    "ax=plt.subplot(111)\n",
    "\n",
    "ax.bar(count_srs.index, count_srs.values, alpha=0.8)\n",
    "\n",
    "ax.xaxis_date()\n",
    "\n",
    "plt.xticks(rotation='vertical')"
   ]
  },
  {
   "cell_type": "code",
   "execution_count": 19,
   "metadata": {},
   "outputs": [
    {
     "name": "stdout",
     "output_type": "stream",
     "text": [
      "Display address that appears less than 2 times : 63.22%\n",
      "Display address that appears less than 10 times : 89.6%\n",
      "Display address that appears less than 50 times : 97.73%\n",
      "Display address that appears less than 100 times : 99.26%\n",
      "Display address that appears less than 500 times : 100.0%\n"
     ]
    },
    {
     "data": {
      "text/plain": [
       "<matplotlib.text.Text at 0x1401ba2e8>"
      ]
     },
     "execution_count": 19,
     "metadata": {},
     "output_type": "execute_result"
    },
    {
     "data": {
      "image/png": "[encoded data removed]",
      "text/plain": [
       "<matplotlib.figure.Figure at 0x13ff881d0>"
      ]
     },
     "metadata": {},
     "output_type": "display_data"
    }
   ],
   "source": [
    "# Now we come to the exploration of the categorical variables (Display adress)\n",
    "\n",
    "count_srs= train_df.groupby('display_address')['display_address'].count()\n",
    "\n",
    "for i in [2,10,50,100,500]:\n",
    "    print(\"Display address that appears less than {} times : {}%\".format(i, round((count_srs<i).mean()*100,2)))\n",
    "    \n",
    "plt.figure(figsize=(12,6))\n",
    "\n",
    "plt.hist(count_srs.values, bins=100, log=True, alpha=0.9)\n",
    "plt.xlabel(\"Number of times the address appeared\", fontsize=12)\n",
    "plt.ylabel(\"log(count)\", fontsize=12)"
   ]
  },
  {
   "cell_type": "code",
   "execution_count": 20,
   "metadata": {},
   "outputs": [
    {
     "name": "stderr",
     "output_type": "stream",
     "text": [
      "/Users/krutarthmajithia/anaconda/lib/python3.6/site-packages/sklearn/cross_validation.py:41: DeprecationWarning: This module was deprecated in version 0.18 in favor of the model_selection module into which all the refactored classes and functions are moved. Also note that the interface of the new CV iterators are different from that of this module. This module will be removed in 0.20.\n",
      "  \"This module will be removed in 0.20.\", DeprecationWarning)\n"
     ]
    }
   ],
   "source": [
    "import xgboost as xgb\n",
    "from sklearn import preprocessing, cross_validation, ensemble, model_selection"
   ]
  },
  {
   "cell_type": "code",
   "execution_count": 21,
   "metadata": {
    "collapsed": true
   },
   "outputs": [],
   "source": [
    "from sklearn.metrics import log_loss\n",
    "from sklearn.feature_extraction.text import TfidfVectorizer, CountVectorizer"
   ]
  },
  {
   "cell_type": "code",
   "execution_count": 35,
   "metadata": {
    "collapsed": true
   },
   "outputs": [],
   "source": [
    "#Now we will be writing a custom function to run the xgboost model\n",
    "def runXGB(train_X, train_y, test_X, test_y=None, feature_names=None, seed_val=0, num_rounds=1000):\n",
    "    param = {}\n",
    "    param['objective'] = 'multi:softprob'\n",
    "    param['eta'] = 0.1\n",
    "    param['max_depth'] = 6\n",
    "    param['silent'] = 1\n",
    "    param['num_class'] = 3\n",
    "    param['eval_metric'] = \"mlogloss\"\n",
    "    param['min_child_weight'] = 1\n",
    "    param['subsample'] = 0.7\n",
    "    param['colsample_bytree'] = 0.7\n",
    "    param['seed'] = seed_val\n",
    "    num_rounds = num_rounds\n",
    "\n",
    "    plst = list(param.items())\n",
    "    xgtrain = xgb.DMatrix(train_X, label=train_y)\n",
    "\n",
    "    if test_y is not None:\n",
    "        xgtest = xgb.DMatrix(test_X, label=test_y)\n",
    "        watchlist = [ (xgtrain,'train'), (xgtest, 'test') ]\n",
    "        model = xgb.train(plst, xgtrain, num_rounds, watchlist, early_stopping_rounds=20)\n",
    "    else:\n",
    "        xgtest = xgb.DMatrix(test_X)\n",
    "        model = xgb.train(plst, xgtrain, num_rounds)\n",
    "\n",
    "    pred_test_y = model.predict(xgtest)\n",
    "    return pred_test_y, model\n",
    "    \n",
    "    "
   ]
  },
  {
   "cell_type": "code",
   "execution_count": 23,
   "metadata": {
    "collapsed": true
   },
   "outputs": [],
   "source": [
    "#Here we create a list of features to use\n",
    "features_to_use=['bathrooms','bedrooms', 'latitude', 'longitude', 'price']"
   ]
  },
  {
   "cell_type": "markdown",
   "metadata": {
    "collapsed": true
   },
   "source": [
    "Here we will be creating new features from the given features"
   ]
  },
  {
   "cell_type": "code",
   "execution_count": 25,
   "metadata": {
    "collapsed": true
   },
   "outputs": [],
   "source": [
    "train_df['num_photos'] = train_df['photos'].apply(len)\n",
    "test_df['num_photos'] = test_df['photos'].apply(len)\n",
    "\n",
    "train_df['num_features'] = train_df['features'].apply(len)\n",
    "test_df['num_features'] = test_df['features'].apply(len)\n",
    "\n",
    "train_df[\"num_description_words\"] = train_df[\"description\"].apply(lambda x: len(x.split(\" \")))\n",
    "test_df[\"num_description_words\"] = test_df[\"description\"].apply(lambda x: len(x.split(\" \")))\n",
    "\n",
    "train_df[\"created\"] = pd.to_datetime(train_df[\"created\"])\n",
    "test_df[\"created\"] = pd.to_datetime(test_df[\"created\"])\n",
    "\n",
    "\n",
    "train_df[\"created_year\"] = train_df[\"created\"].dt.year\n",
    "test_df[\"created_year\"] = test_df[\"created\"].dt.year\n",
    "train_df[\"created_month\"] = train_df[\"created\"].dt.month\n",
    "test_df[\"created_month\"] = test_df[\"created\"].dt.month\n",
    "train_df[\"created_day\"] = train_df[\"created\"].dt.day\n",
    "test_df[\"created_day\"] = test_df[\"created\"].dt.day\n",
    "train_df[\"created_hour\"] = train_df[\"created\"].dt.hour\n",
    "test_df[\"created_hour\"] = test_df[\"created\"].dt.hour\n",
    "\n",
    "# adding all these new features to use list #\n",
    "features_to_use.extend([\"num_photos\", \"num_features\", \"num_description_words\",\"created_year\",\n",
    "                        \"created_month\", \"created_day\", \"listing_id\", \"created_hour\"])"
   ]
  },
  {
   "cell_type": "markdown",
   "metadata": {},
   "source": [
    "Now there are four categorical features in the dataset. We will use label encoder for all for of them"
   ]
  },
  {
   "cell_type": "code",
   "execution_count": 26,
   "metadata": {
    "collapsed": true
   },
   "outputs": [],
   "source": [
    "categorical = [\"display_address\", \"manager_id\", \"building_id\", \"street_address\"]\n",
    "for f in categorical:\n",
    "        if train_df[f].dtype=='object':\n",
    "            #print(f)\n",
    "            lbl = preprocessing.LabelEncoder()\n",
    "            lbl.fit(list(train_df[f].values) + list(test_df[f].values))\n",
    "            train_df[f] = lbl.transform(list(train_df[f].values))\n",
    "            test_df[f] = lbl.transform(list(test_df[f].values))\n",
    "            features_to_use.append(f)"
   ]
  },
  {
   "cell_type": "code",
   "execution_count": 27,
   "metadata": {},
   "outputs": [
    {
     "name": "stdout",
     "output_type": "stream",
     "text": [
      "10                                                         \n",
      "10000     Doorman Elevator Fitness_Center Cats_Allowed D...\n",
      "100004    Laundry_In_Building Dishwasher Hardwood_Floors...\n",
      "100007                               Hardwood_Floors No_Fee\n",
      "100013                                              Pre-War\n",
      "Name: features, dtype: object\n"
     ]
    }
   ],
   "source": [
    "train_df['features'] = train_df[\"features\"].apply(lambda x: \" \".join([\"_\".join(i.split(\" \")) for i in x]))\n",
    "test_df['features'] = test_df[\"features\"].apply(lambda x: \" \".join([\"_\".join(i.split(\" \")) for i in x]))\n",
    "print(train_df[\"features\"].head())\n",
    "tfidf = CountVectorizer(stop_words='english', max_features=200)\n",
    "tr_sparse = tfidf.fit_transform(train_df[\"features\"])\n",
    "te_sparse = tfidf.transform(test_df[\"features\"])"
   ]
  },
  {
   "cell_type": "code",
   "execution_count": 32,
   "metadata": {},
   "outputs": [
    {
     "name": "stdout",
     "output_type": "stream",
     "text": [
      "(49352, 217) (74659, 217)\n"
     ]
    }
   ],
   "source": [
    "train_X = sparse.hstack([train_df[features_to_use], tr_sparse]).tocsr()\n",
    "test_X = sparse.hstack([test_df[features_to_use], te_sparse]).tocsr()\n",
    "\n",
    "target_num_map = {'high':0, 'medium':1, 'low':2}\n",
    "train_y = np.array(train_df['interest_level'].apply(lambda x: target_num_map[x]))\n",
    "print(train_X.shape, test_X.shape)"
   ]
  },
  {
   "cell_type": "code",
   "execution_count": 36,
   "metadata": {},
   "outputs": [
    {
     "name": "stdout",
     "output_type": "stream",
     "text": [
      "[0]\ttrain-mlogloss:1.04114\ttest-mlogloss:1.04219\n",
      "Multiple eval metrics have been passed: 'test-mlogloss' will be used for early stopping.\n",
      "\n",
      "Will train until test-mlogloss hasn't improved in 20 rounds.\n",
      "[1]\ttrain-mlogloss:0.988799\ttest-mlogloss:0.990721\n",
      "[2]\ttrain-mlogloss:0.944048\ttest-mlogloss:0.94691\n",
      "[3]\ttrain-mlogloss:0.90518\ttest-mlogloss:0.908812\n",
      "[4]\ttrain-mlogloss:0.8718\ttest-mlogloss:0.876215\n",
      "[5]\ttrain-mlogloss:0.841498\ttest-mlogloss:0.847057\n",
      "[6]\ttrain-mlogloss:0.815614\ttest-mlogloss:0.821795\n",
      "[7]\ttrain-mlogloss:0.79312\ttest-mlogloss:0.799993\n",
      "[8]\ttrain-mlogloss:0.773194\ttest-mlogloss:0.780815\n",
      "[9]\ttrain-mlogloss:0.754598\ttest-mlogloss:0.763247\n",
      "[10]\ttrain-mlogloss:0.738162\ttest-mlogloss:0.747594\n",
      "[11]\ttrain-mlogloss:0.724634\ttest-mlogloss:0.734739\n",
      "[12]\ttrain-mlogloss:0.711331\ttest-mlogloss:0.722318\n",
      "[13]\ttrain-mlogloss:0.699821\ttest-mlogloss:0.711481\n",
      "[14]\ttrain-mlogloss:0.689142\ttest-mlogloss:0.701381\n",
      "[15]\ttrain-mlogloss:0.678446\ttest-mlogloss:0.691482\n",
      "[16]\ttrain-mlogloss:0.669268\ttest-mlogloss:0.683158\n",
      "[17]\ttrain-mlogloss:0.66185\ttest-mlogloss:0.67647\n",
      "[18]\ttrain-mlogloss:0.654386\ttest-mlogloss:0.669772\n",
      "[19]\ttrain-mlogloss:0.648071\ttest-mlogloss:0.664241\n",
      "[20]\ttrain-mlogloss:0.642589\ttest-mlogloss:0.659292\n",
      "[21]\ttrain-mlogloss:0.637133\ttest-mlogloss:0.654492\n",
      "[22]\ttrain-mlogloss:0.632064\ttest-mlogloss:0.650024\n",
      "[23]\ttrain-mlogloss:0.627592\ttest-mlogloss:0.646221\n",
      "[24]\ttrain-mlogloss:0.622447\ttest-mlogloss:0.641828\n",
      "[25]\ttrain-mlogloss:0.618027\ttest-mlogloss:0.638092\n",
      "[26]\ttrain-mlogloss:0.614181\ttest-mlogloss:0.635053\n",
      "[27]\ttrain-mlogloss:0.61114\ttest-mlogloss:0.632717\n",
      "[28]\ttrain-mlogloss:0.607278\ttest-mlogloss:0.629888\n",
      "[29]\ttrain-mlogloss:0.603595\ttest-mlogloss:0.627116\n",
      "[30]\ttrain-mlogloss:0.600566\ttest-mlogloss:0.624912\n",
      "[31]\ttrain-mlogloss:0.597396\ttest-mlogloss:0.622441\n",
      "[32]\ttrain-mlogloss:0.594581\ttest-mlogloss:0.620373\n",
      "[33]\ttrain-mlogloss:0.591807\ttest-mlogloss:0.618497\n",
      "[34]\ttrain-mlogloss:0.589131\ttest-mlogloss:0.616384\n",
      "[35]\ttrain-mlogloss:0.586585\ttest-mlogloss:0.614496\n",
      "[36]\ttrain-mlogloss:0.583978\ttest-mlogloss:0.612716\n",
      "[37]\ttrain-mlogloss:0.582015\ttest-mlogloss:0.611317\n",
      "[38]\ttrain-mlogloss:0.579514\ttest-mlogloss:0.609588\n",
      "[39]\ttrain-mlogloss:0.576912\ttest-mlogloss:0.607814\n",
      "[40]\ttrain-mlogloss:0.574746\ttest-mlogloss:0.606454\n",
      "[41]\ttrain-mlogloss:0.572975\ttest-mlogloss:0.605284\n",
      "[42]\ttrain-mlogloss:0.570366\ttest-mlogloss:0.603354\n",
      "[43]\ttrain-mlogloss:0.568138\ttest-mlogloss:0.602107\n",
      "[44]\ttrain-mlogloss:0.565862\ttest-mlogloss:0.600475\n",
      "[45]\ttrain-mlogloss:0.564646\ttest-mlogloss:0.599563\n",
      "[46]\ttrain-mlogloss:0.562649\ttest-mlogloss:0.598221\n",
      "[47]\ttrain-mlogloss:0.560823\ttest-mlogloss:0.597094\n",
      "[48]\ttrain-mlogloss:0.559184\ttest-mlogloss:0.596101\n",
      "[49]\ttrain-mlogloss:0.557642\ttest-mlogloss:0.595268\n",
      "[50]\ttrain-mlogloss:0.555695\ttest-mlogloss:0.594217\n",
      "[51]\ttrain-mlogloss:0.553391\ttest-mlogloss:0.593256\n",
      "[52]\ttrain-mlogloss:0.551141\ttest-mlogloss:0.592129\n",
      "[53]\ttrain-mlogloss:0.549666\ttest-mlogloss:0.591489\n",
      "[54]\ttrain-mlogloss:0.547321\ttest-mlogloss:0.590389\n",
      "[55]\ttrain-mlogloss:0.546197\ttest-mlogloss:0.589846\n",
      "[56]\ttrain-mlogloss:0.544658\ttest-mlogloss:0.589096\n",
      "[57]\ttrain-mlogloss:0.543389\ttest-mlogloss:0.588546\n",
      "[58]\ttrain-mlogloss:0.541408\ttest-mlogloss:0.58737\n",
      "[59]\ttrain-mlogloss:0.540229\ttest-mlogloss:0.586951\n",
      "[60]\ttrain-mlogloss:0.538715\ttest-mlogloss:0.58633\n",
      "[61]\ttrain-mlogloss:0.537227\ttest-mlogloss:0.585638\n",
      "[62]\ttrain-mlogloss:0.535932\ttest-mlogloss:0.585132\n",
      "[63]\ttrain-mlogloss:0.534624\ttest-mlogloss:0.584407\n",
      "[64]\ttrain-mlogloss:0.533186\ttest-mlogloss:0.58367\n",
      "[65]\ttrain-mlogloss:0.531767\ttest-mlogloss:0.582788\n",
      "[66]\ttrain-mlogloss:0.530367\ttest-mlogloss:0.582063\n",
      "[67]\ttrain-mlogloss:0.529023\ttest-mlogloss:0.581331\n",
      "[68]\ttrain-mlogloss:0.527781\ttest-mlogloss:0.58068\n",
      "[69]\ttrain-mlogloss:0.526511\ttest-mlogloss:0.580342\n",
      "[70]\ttrain-mlogloss:0.525392\ttest-mlogloss:0.579888\n",
      "[71]\ttrain-mlogloss:0.52422\ttest-mlogloss:0.579319\n",
      "[72]\ttrain-mlogloss:0.523065\ttest-mlogloss:0.578852\n",
      "[73]\ttrain-mlogloss:0.522163\ttest-mlogloss:0.578434\n",
      "[74]\ttrain-mlogloss:0.520843\ttest-mlogloss:0.577687\n",
      "[75]\ttrain-mlogloss:0.520055\ttest-mlogloss:0.577254\n",
      "[76]\ttrain-mlogloss:0.519149\ttest-mlogloss:0.576857\n",
      "[77]\ttrain-mlogloss:0.517909\ttest-mlogloss:0.57638\n",
      "[78]\ttrain-mlogloss:0.516506\ttest-mlogloss:0.575721\n",
      "[79]\ttrain-mlogloss:0.515361\ttest-mlogloss:0.575472\n",
      "[80]\ttrain-mlogloss:0.514641\ttest-mlogloss:0.575183\n",
      "[81]\ttrain-mlogloss:0.513579\ttest-mlogloss:0.574743\n",
      "[82]\ttrain-mlogloss:0.512622\ttest-mlogloss:0.574371\n",
      "[83]\ttrain-mlogloss:0.511446\ttest-mlogloss:0.574089\n",
      "[84]\ttrain-mlogloss:0.510372\ttest-mlogloss:0.573719\n",
      "[85]\ttrain-mlogloss:0.509183\ttest-mlogloss:0.573575\n",
      "[86]\ttrain-mlogloss:0.508148\ttest-mlogloss:0.573277\n",
      "[87]\ttrain-mlogloss:0.50706\ttest-mlogloss:0.572957\n",
      "[88]\ttrain-mlogloss:0.50622\ttest-mlogloss:0.572635\n",
      "[89]\ttrain-mlogloss:0.505219\ttest-mlogloss:0.572276\n",
      "[90]\ttrain-mlogloss:0.504375\ttest-mlogloss:0.571933\n",
      "[91]\ttrain-mlogloss:0.503762\ttest-mlogloss:0.571746\n",
      "[92]\ttrain-mlogloss:0.502992\ttest-mlogloss:0.571413\n",
      "[93]\ttrain-mlogloss:0.502076\ttest-mlogloss:0.571129\n",
      "[94]\ttrain-mlogloss:0.500902\ttest-mlogloss:0.570822\n",
      "[95]\ttrain-mlogloss:0.500169\ttest-mlogloss:0.570567\n",
      "[96]\ttrain-mlogloss:0.499278\ttest-mlogloss:0.570131\n",
      "[97]\ttrain-mlogloss:0.498181\ttest-mlogloss:0.569639\n",
      "[98]\ttrain-mlogloss:0.497191\ttest-mlogloss:0.569336\n",
      "[99]\ttrain-mlogloss:0.496139\ttest-mlogloss:0.569146\n",
      "[100]\ttrain-mlogloss:0.495544\ttest-mlogloss:0.56896\n",
      "[101]\ttrain-mlogloss:0.494762\ttest-mlogloss:0.568668\n",
      "[102]\ttrain-mlogloss:0.493763\ttest-mlogloss:0.568456\n",
      "[103]\ttrain-mlogloss:0.492945\ttest-mlogloss:0.568271\n",
      "[104]\ttrain-mlogloss:0.491708\ttest-mlogloss:0.567905\n",
      "[105]\ttrain-mlogloss:0.490897\ttest-mlogloss:0.567701\n",
      "[106]\ttrain-mlogloss:0.490114\ttest-mlogloss:0.567514\n",
      "[107]\ttrain-mlogloss:0.48894\ttest-mlogloss:0.567149\n",
      "[108]\ttrain-mlogloss:0.488131\ttest-mlogloss:0.566846\n",
      "[109]\ttrain-mlogloss:0.487414\ttest-mlogloss:0.566577\n",
      "[110]\ttrain-mlogloss:0.486545\ttest-mlogloss:0.566364\n",
      "[111]\ttrain-mlogloss:0.485623\ttest-mlogloss:0.566043\n",
      "[112]\ttrain-mlogloss:0.484816\ttest-mlogloss:0.565925\n",
      "[113]\ttrain-mlogloss:0.484138\ttest-mlogloss:0.565711\n",
      "[114]\ttrain-mlogloss:0.483216\ttest-mlogloss:0.56544\n",
      "[115]\ttrain-mlogloss:0.482588\ttest-mlogloss:0.565323\n",
      "[116]\ttrain-mlogloss:0.481523\ttest-mlogloss:0.565\n",
      "[117]\ttrain-mlogloss:0.48092\ttest-mlogloss:0.564753\n",
      "[118]\ttrain-mlogloss:0.480238\ttest-mlogloss:0.564586\n",
      "[119]\ttrain-mlogloss:0.47942\ttest-mlogloss:0.564378\n",
      "[120]\ttrain-mlogloss:0.478738\ttest-mlogloss:0.564245\n",
      "[121]\ttrain-mlogloss:0.478011\ttest-mlogloss:0.56409\n",
      "[122]\ttrain-mlogloss:0.476949\ttest-mlogloss:0.56384\n",
      "[123]\ttrain-mlogloss:0.476118\ttest-mlogloss:0.563467\n",
      "[124]\ttrain-mlogloss:0.475843\ttest-mlogloss:0.563276\n",
      "[125]\ttrain-mlogloss:0.474954\ttest-mlogloss:0.562983\n",
      "[126]\ttrain-mlogloss:0.474088\ttest-mlogloss:0.562882\n",
      "[127]\ttrain-mlogloss:0.473533\ttest-mlogloss:0.562699\n",
      "[128]\ttrain-mlogloss:0.472967\ttest-mlogloss:0.562539\n",
      "[129]\ttrain-mlogloss:0.472171\ttest-mlogloss:0.562386\n",
      "[130]\ttrain-mlogloss:0.471264\ttest-mlogloss:0.562188\n",
      "[131]\ttrain-mlogloss:0.470706\ttest-mlogloss:0.562049\n",
      "[132]\ttrain-mlogloss:0.469903\ttest-mlogloss:0.561895\n",
      "[133]\ttrain-mlogloss:0.469176\ttest-mlogloss:0.561649\n",
      "[134]\ttrain-mlogloss:0.468483\ttest-mlogloss:0.561359\n",
      "[135]\ttrain-mlogloss:0.467675\ttest-mlogloss:0.561175\n",
      "[136]\ttrain-mlogloss:0.466944\ttest-mlogloss:0.560943\n",
      "[137]\ttrain-mlogloss:0.466573\ttest-mlogloss:0.560931\n",
      "[138]\ttrain-mlogloss:0.465994\ttest-mlogloss:0.560789\n",
      "[139]\ttrain-mlogloss:0.465236\ttest-mlogloss:0.560444\n",
      "[140]\ttrain-mlogloss:0.464364\ttest-mlogloss:0.560345\n",
      "[141]\ttrain-mlogloss:0.463396\ttest-mlogloss:0.560242\n",
      "[142]\ttrain-mlogloss:0.46274\ttest-mlogloss:0.560137\n",
      "[143]\ttrain-mlogloss:0.462101\ttest-mlogloss:0.55996\n",
      "[144]\ttrain-mlogloss:0.461376\ttest-mlogloss:0.559821\n",
      "[145]\ttrain-mlogloss:0.460638\ttest-mlogloss:0.559611\n",
      "[146]\ttrain-mlogloss:0.459958\ttest-mlogloss:0.559478\n",
      "[147]\ttrain-mlogloss:0.459362\ttest-mlogloss:0.559354\n",
      "[148]\ttrain-mlogloss:0.458515\ttest-mlogloss:0.559138\n",
      "[149]\ttrain-mlogloss:0.457808\ttest-mlogloss:0.559009\n",
      "[150]\ttrain-mlogloss:0.45738\ttest-mlogloss:0.558911\n",
      "[151]\ttrain-mlogloss:0.456855\ttest-mlogloss:0.55884\n",
      "[152]\ttrain-mlogloss:0.456063\ttest-mlogloss:0.558697\n",
      "[153]\ttrain-mlogloss:0.455421\ttest-mlogloss:0.558521\n",
      "[154]\ttrain-mlogloss:0.454662\ttest-mlogloss:0.558377\n"
     ]
    },
    {
     "name": "stdout",
     "output_type": "stream",
     "text": [
      "[155]\ttrain-mlogloss:0.454117\ttest-mlogloss:0.558296\n",
      "[156]\ttrain-mlogloss:0.453326\ttest-mlogloss:0.558084\n",
      "[157]\ttrain-mlogloss:0.452753\ttest-mlogloss:0.557905\n",
      "[158]\ttrain-mlogloss:0.452359\ttest-mlogloss:0.557868\n",
      "[159]\ttrain-mlogloss:0.451707\ttest-mlogloss:0.557636\n",
      "[160]\ttrain-mlogloss:0.451068\ttest-mlogloss:0.557454\n",
      "[161]\ttrain-mlogloss:0.450408\ttest-mlogloss:0.557361\n",
      "[162]\ttrain-mlogloss:0.449685\ttest-mlogloss:0.557289\n",
      "[163]\ttrain-mlogloss:0.448961\ttest-mlogloss:0.557146\n",
      "[164]\ttrain-mlogloss:0.448501\ttest-mlogloss:0.557029\n",
      "[165]\ttrain-mlogloss:0.447691\ttest-mlogloss:0.556853\n",
      "[166]\ttrain-mlogloss:0.446992\ttest-mlogloss:0.556806\n",
      "[167]\ttrain-mlogloss:0.446296\ttest-mlogloss:0.556598\n",
      "[168]\ttrain-mlogloss:0.445686\ttest-mlogloss:0.556577\n",
      "[169]\ttrain-mlogloss:0.444956\ttest-mlogloss:0.556382\n",
      "[170]\ttrain-mlogloss:0.444435\ttest-mlogloss:0.556329\n",
      "[171]\ttrain-mlogloss:0.443592\ttest-mlogloss:0.556008\n",
      "[172]\ttrain-mlogloss:0.442805\ttest-mlogloss:0.555822\n",
      "[173]\ttrain-mlogloss:0.442412\ttest-mlogloss:0.555704\n",
      "[174]\ttrain-mlogloss:0.441773\ttest-mlogloss:0.555605\n",
      "[175]\ttrain-mlogloss:0.441135\ttest-mlogloss:0.555466\n",
      "[176]\ttrain-mlogloss:0.440742\ttest-mlogloss:0.555388\n",
      "[177]\ttrain-mlogloss:0.44027\ttest-mlogloss:0.555334\n",
      "[178]\ttrain-mlogloss:0.439462\ttest-mlogloss:0.555133\n",
      "[179]\ttrain-mlogloss:0.43881\ttest-mlogloss:0.554992\n",
      "[180]\ttrain-mlogloss:0.438174\ttest-mlogloss:0.554753\n",
      "[181]\ttrain-mlogloss:0.437383\ttest-mlogloss:0.554644\n",
      "[182]\ttrain-mlogloss:0.436838\ttest-mlogloss:0.554575\n",
      "[183]\ttrain-mlogloss:0.436125\ttest-mlogloss:0.554404\n",
      "[184]\ttrain-mlogloss:0.435588\ttest-mlogloss:0.554327\n",
      "[185]\ttrain-mlogloss:0.435114\ttest-mlogloss:0.55427\n",
      "[186]\ttrain-mlogloss:0.434355\ttest-mlogloss:0.554231\n",
      "[187]\ttrain-mlogloss:0.43382\ttest-mlogloss:0.554011\n",
      "[188]\ttrain-mlogloss:0.433208\ttest-mlogloss:0.553862\n",
      "[189]\ttrain-mlogloss:0.43253\ttest-mlogloss:0.553751\n",
      "[190]\ttrain-mlogloss:0.432027\ttest-mlogloss:0.553633\n",
      "[191]\ttrain-mlogloss:0.43148\ttest-mlogloss:0.553609\n",
      "[192]\ttrain-mlogloss:0.431025\ttest-mlogloss:0.553599\n",
      "[193]\ttrain-mlogloss:0.430441\ttest-mlogloss:0.553502\n",
      "[194]\ttrain-mlogloss:0.429787\ttest-mlogloss:0.553418\n",
      "[195]\ttrain-mlogloss:0.429262\ttest-mlogloss:0.553465\n",
      "[196]\ttrain-mlogloss:0.42865\ttest-mlogloss:0.553342\n",
      "[197]\ttrain-mlogloss:0.428045\ttest-mlogloss:0.553264\n",
      "[198]\ttrain-mlogloss:0.427341\ttest-mlogloss:0.553197\n",
      "[199]\ttrain-mlogloss:0.426563\ttest-mlogloss:0.552965\n",
      "[200]\ttrain-mlogloss:0.426066\ttest-mlogloss:0.552906\n",
      "[201]\ttrain-mlogloss:0.42541\ttest-mlogloss:0.552713\n",
      "[202]\ttrain-mlogloss:0.424861\ttest-mlogloss:0.552693\n",
      "[203]\ttrain-mlogloss:0.42421\ttest-mlogloss:0.552601\n",
      "[204]\ttrain-mlogloss:0.423567\ttest-mlogloss:0.552647\n",
      "[205]\ttrain-mlogloss:0.422962\ttest-mlogloss:0.552553\n",
      "[206]\ttrain-mlogloss:0.422326\ttest-mlogloss:0.552551\n",
      "[207]\ttrain-mlogloss:0.421518\ttest-mlogloss:0.55258\n",
      "[208]\ttrain-mlogloss:0.420897\ttest-mlogloss:0.552612\n",
      "[209]\ttrain-mlogloss:0.420392\ttest-mlogloss:0.552503\n",
      "[210]\ttrain-mlogloss:0.420065\ttest-mlogloss:0.552369\n",
      "[211]\ttrain-mlogloss:0.419603\ttest-mlogloss:0.55221\n",
      "[212]\ttrain-mlogloss:0.41903\ttest-mlogloss:0.552108\n",
      "[213]\ttrain-mlogloss:0.418522\ttest-mlogloss:0.551998\n",
      "[214]\ttrain-mlogloss:0.417667\ttest-mlogloss:0.551873\n",
      "[215]\ttrain-mlogloss:0.417187\ttest-mlogloss:0.551808\n",
      "[216]\ttrain-mlogloss:0.416637\ttest-mlogloss:0.551775\n",
      "[217]\ttrain-mlogloss:0.41618\ttest-mlogloss:0.55173\n",
      "[218]\ttrain-mlogloss:0.415826\ttest-mlogloss:0.55165\n",
      "[219]\ttrain-mlogloss:0.415501\ttest-mlogloss:0.551587\n",
      "[220]\ttrain-mlogloss:0.415265\ttest-mlogloss:0.551546\n",
      "[221]\ttrain-mlogloss:0.414692\ttest-mlogloss:0.551359\n",
      "[222]\ttrain-mlogloss:0.414234\ttest-mlogloss:0.551307\n",
      "[223]\ttrain-mlogloss:0.413624\ttest-mlogloss:0.551199\n",
      "[224]\ttrain-mlogloss:0.41308\ttest-mlogloss:0.551012\n",
      "[225]\ttrain-mlogloss:0.41247\ttest-mlogloss:0.550941\n",
      "[226]\ttrain-mlogloss:0.411947\ttest-mlogloss:0.550983\n",
      "[227]\ttrain-mlogloss:0.411371\ttest-mlogloss:0.550967\n",
      "[228]\ttrain-mlogloss:0.41081\ttest-mlogloss:0.550876\n",
      "[229]\ttrain-mlogloss:0.410216\ttest-mlogloss:0.550737\n",
      "[230]\ttrain-mlogloss:0.409747\ttest-mlogloss:0.550653\n",
      "[231]\ttrain-mlogloss:0.409131\ttest-mlogloss:0.550562\n",
      "[232]\ttrain-mlogloss:0.408654\ttest-mlogloss:0.55062\n",
      "[233]\ttrain-mlogloss:0.408119\ttest-mlogloss:0.550529\n",
      "[234]\ttrain-mlogloss:0.407361\ttest-mlogloss:0.550505\n",
      "[235]\ttrain-mlogloss:0.406824\ttest-mlogloss:0.550482\n",
      "[236]\ttrain-mlogloss:0.406348\ttest-mlogloss:0.55042\n",
      "[237]\ttrain-mlogloss:0.406023\ttest-mlogloss:0.550356\n",
      "[238]\ttrain-mlogloss:0.405309\ttest-mlogloss:0.550179\n",
      "[239]\ttrain-mlogloss:0.404664\ttest-mlogloss:0.55013\n",
      "[240]\ttrain-mlogloss:0.404285\ttest-mlogloss:0.550085\n",
      "[241]\ttrain-mlogloss:0.403685\ttest-mlogloss:0.55006\n",
      "[242]\ttrain-mlogloss:0.403308\ttest-mlogloss:0.549991\n",
      "[243]\ttrain-mlogloss:0.402697\ttest-mlogloss:0.549962\n",
      "[244]\ttrain-mlogloss:0.402272\ttest-mlogloss:0.549869\n",
      "[245]\ttrain-mlogloss:0.401685\ttest-mlogloss:0.549878\n",
      "[246]\ttrain-mlogloss:0.401243\ttest-mlogloss:0.549921\n",
      "[247]\ttrain-mlogloss:0.400637\ttest-mlogloss:0.549932\n",
      "[248]\ttrain-mlogloss:0.400319\ttest-mlogloss:0.549812\n",
      "[249]\ttrain-mlogloss:0.399861\ttest-mlogloss:0.549876\n",
      "[250]\ttrain-mlogloss:0.399276\ttest-mlogloss:0.549815\n",
      "[251]\ttrain-mlogloss:0.398666\ttest-mlogloss:0.549829\n",
      "[252]\ttrain-mlogloss:0.398211\ttest-mlogloss:0.549989\n",
      "[253]\ttrain-mlogloss:0.397705\ttest-mlogloss:0.549932\n",
      "[254]\ttrain-mlogloss:0.397121\ttest-mlogloss:0.550049\n",
      "[255]\ttrain-mlogloss:0.396528\ttest-mlogloss:0.550022\n",
      "[256]\ttrain-mlogloss:0.396249\ttest-mlogloss:0.550033\n",
      "[257]\ttrain-mlogloss:0.395951\ttest-mlogloss:0.549966\n",
      "[258]\ttrain-mlogloss:0.395331\ttest-mlogloss:0.549948\n",
      "[259]\ttrain-mlogloss:0.394668\ttest-mlogloss:0.549957\n",
      "[260]\ttrain-mlogloss:0.394171\ttest-mlogloss:0.549973\n",
      "[261]\ttrain-mlogloss:0.39384\ttest-mlogloss:0.549985\n",
      "[262]\ttrain-mlogloss:0.393273\ttest-mlogloss:0.550006\n",
      "[263]\ttrain-mlogloss:0.392843\ttest-mlogloss:0.5499\n",
      "[264]\ttrain-mlogloss:0.392273\ttest-mlogloss:0.549908\n",
      "[265]\ttrain-mlogloss:0.391828\ttest-mlogloss:0.549826\n",
      "[266]\ttrain-mlogloss:0.391468\ttest-mlogloss:0.549805\n",
      "[267]\ttrain-mlogloss:0.390976\ttest-mlogloss:0.549758\n",
      "[268]\ttrain-mlogloss:0.390481\ttest-mlogloss:0.549727\n",
      "[269]\ttrain-mlogloss:0.390038\ttest-mlogloss:0.549707\n",
      "[270]\ttrain-mlogloss:0.389536\ttest-mlogloss:0.549714\n",
      "[271]\ttrain-mlogloss:0.388936\ttest-mlogloss:0.549652\n",
      "[272]\ttrain-mlogloss:0.388576\ttest-mlogloss:0.549666\n",
      "[273]\ttrain-mlogloss:0.388062\ttest-mlogloss:0.549731\n",
      "[274]\ttrain-mlogloss:0.387869\ttest-mlogloss:0.549754\n",
      "[275]\ttrain-mlogloss:0.387572\ttest-mlogloss:0.549816\n",
      "[276]\ttrain-mlogloss:0.387073\ttest-mlogloss:0.549819\n",
      "[277]\ttrain-mlogloss:0.386474\ttest-mlogloss:0.54963\n",
      "[278]\ttrain-mlogloss:0.385841\ttest-mlogloss:0.549673\n",
      "[279]\ttrain-mlogloss:0.385482\ttest-mlogloss:0.549606\n",
      "[280]\ttrain-mlogloss:0.385114\ttest-mlogloss:0.549587\n",
      "[281]\ttrain-mlogloss:0.384674\ttest-mlogloss:0.54955\n",
      "[282]\ttrain-mlogloss:0.384137\ttest-mlogloss:0.549542\n",
      "[283]\ttrain-mlogloss:0.38372\ttest-mlogloss:0.549528\n",
      "[284]\ttrain-mlogloss:0.383234\ttest-mlogloss:0.549464\n",
      "[285]\ttrain-mlogloss:0.38272\ttest-mlogloss:0.549434\n",
      "[286]\ttrain-mlogloss:0.382295\ttest-mlogloss:0.549465\n",
      "[287]\ttrain-mlogloss:0.381834\ttest-mlogloss:0.549379\n",
      "[288]\ttrain-mlogloss:0.38132\ttest-mlogloss:0.54934\n",
      "[289]\ttrain-mlogloss:0.380894\ttest-mlogloss:0.549264\n",
      "[290]\ttrain-mlogloss:0.380498\ttest-mlogloss:0.549247\n",
      "[291]\ttrain-mlogloss:0.380062\ttest-mlogloss:0.549205\n",
      "[292]\ttrain-mlogloss:0.37965\ttest-mlogloss:0.549201\n",
      "[293]\ttrain-mlogloss:0.379019\ttest-mlogloss:0.549211\n",
      "[294]\ttrain-mlogloss:0.378508\ttest-mlogloss:0.549221\n",
      "[295]\ttrain-mlogloss:0.378046\ttest-mlogloss:0.549091\n",
      "[296]\ttrain-mlogloss:0.377814\ttest-mlogloss:0.549071\n",
      "[297]\ttrain-mlogloss:0.377491\ttest-mlogloss:0.549019\n",
      "[298]\ttrain-mlogloss:0.377001\ttest-mlogloss:0.549037\n",
      "[299]\ttrain-mlogloss:0.376494\ttest-mlogloss:0.549011\n",
      "[300]\ttrain-mlogloss:0.376066\ttest-mlogloss:0.548946\n",
      "[301]\ttrain-mlogloss:0.375527\ttest-mlogloss:0.548929\n",
      "[302]\ttrain-mlogloss:0.375013\ttest-mlogloss:0.54892\n",
      "[303]\ttrain-mlogloss:0.374521\ttest-mlogloss:0.549\n",
      "[304]\ttrain-mlogloss:0.373935\ttest-mlogloss:0.549171\n",
      "[305]\ttrain-mlogloss:0.373428\ttest-mlogloss:0.549223\n",
      "[306]\ttrain-mlogloss:0.373039\ttest-mlogloss:0.54916\n",
      "[307]\ttrain-mlogloss:0.372686\ttest-mlogloss:0.549035\n",
      "[308]\ttrain-mlogloss:0.37216\ttest-mlogloss:0.548995\n",
      "[309]\ttrain-mlogloss:0.371648\ttest-mlogloss:0.548941\n",
      "[310]\ttrain-mlogloss:0.371155\ttest-mlogloss:0.548814\n"
     ]
    },
    {
     "name": "stdout",
     "output_type": "stream",
     "text": [
      "[311]\ttrain-mlogloss:0.370729\ttest-mlogloss:0.548765\n",
      "[312]\ttrain-mlogloss:0.37032\ttest-mlogloss:0.548888\n",
      "[313]\ttrain-mlogloss:0.369891\ttest-mlogloss:0.548985\n",
      "[314]\ttrain-mlogloss:0.369316\ttest-mlogloss:0.548926\n",
      "[315]\ttrain-mlogloss:0.368816\ttest-mlogloss:0.548971\n",
      "[316]\ttrain-mlogloss:0.368333\ttest-mlogloss:0.548876\n",
      "[317]\ttrain-mlogloss:0.368004\ttest-mlogloss:0.548885\n",
      "[318]\ttrain-mlogloss:0.367705\ttest-mlogloss:0.548927\n",
      "[319]\ttrain-mlogloss:0.367121\ttest-mlogloss:0.548788\n",
      "[320]\ttrain-mlogloss:0.366641\ttest-mlogloss:0.548706\n",
      "[321]\ttrain-mlogloss:0.366203\ttest-mlogloss:0.548571\n",
      "[322]\ttrain-mlogloss:0.365932\ttest-mlogloss:0.548489\n",
      "[323]\ttrain-mlogloss:0.365446\ttest-mlogloss:0.548531\n",
      "[324]\ttrain-mlogloss:0.365172\ttest-mlogloss:0.548617\n",
      "[325]\ttrain-mlogloss:0.364779\ttest-mlogloss:0.548644\n",
      "[326]\ttrain-mlogloss:0.364241\ttest-mlogloss:0.548594\n",
      "[327]\ttrain-mlogloss:0.363824\ttest-mlogloss:0.548602\n",
      "[328]\ttrain-mlogloss:0.3634\ttest-mlogloss:0.548548\n",
      "[329]\ttrain-mlogloss:0.363084\ttest-mlogloss:0.548491\n",
      "[330]\ttrain-mlogloss:0.362653\ttest-mlogloss:0.548437\n",
      "[331]\ttrain-mlogloss:0.362338\ttest-mlogloss:0.548367\n",
      "[332]\ttrain-mlogloss:0.361838\ttest-mlogloss:0.548419\n",
      "[333]\ttrain-mlogloss:0.361572\ttest-mlogloss:0.548516\n",
      "[334]\ttrain-mlogloss:0.361207\ttest-mlogloss:0.548434\n",
      "[335]\ttrain-mlogloss:0.360795\ttest-mlogloss:0.548389\n",
      "[336]\ttrain-mlogloss:0.360272\ttest-mlogloss:0.548249\n",
      "[337]\ttrain-mlogloss:0.359874\ttest-mlogloss:0.548235\n",
      "[338]\ttrain-mlogloss:0.359489\ttest-mlogloss:0.54823\n",
      "[339]\ttrain-mlogloss:0.358986\ttest-mlogloss:0.548271\n",
      "[340]\ttrain-mlogloss:0.358536\ttest-mlogloss:0.548283\n",
      "[341]\ttrain-mlogloss:0.358192\ttest-mlogloss:0.5482\n",
      "[342]\ttrain-mlogloss:0.357849\ttest-mlogloss:0.548229\n",
      "[343]\ttrain-mlogloss:0.357487\ttest-mlogloss:0.54821\n",
      "[344]\ttrain-mlogloss:0.356953\ttest-mlogloss:0.548181\n",
      "[345]\ttrain-mlogloss:0.356421\ttest-mlogloss:0.548106\n",
      "[346]\ttrain-mlogloss:0.355903\ttest-mlogloss:0.548063\n",
      "[347]\ttrain-mlogloss:0.355627\ttest-mlogloss:0.548068\n",
      "[348]\ttrain-mlogloss:0.355334\ttest-mlogloss:0.54803\n",
      "[349]\ttrain-mlogloss:0.354875\ttest-mlogloss:0.548005\n",
      "[350]\ttrain-mlogloss:0.354477\ttest-mlogloss:0.547958\n",
      "[351]\ttrain-mlogloss:0.354084\ttest-mlogloss:0.547862\n",
      "[352]\ttrain-mlogloss:0.353584\ttest-mlogloss:0.54775\n",
      "[353]\ttrain-mlogloss:0.353249\ttest-mlogloss:0.547744\n",
      "[354]\ttrain-mlogloss:0.35303\ttest-mlogloss:0.547778\n",
      "[355]\ttrain-mlogloss:0.352646\ttest-mlogloss:0.547696\n",
      "[356]\ttrain-mlogloss:0.352297\ttest-mlogloss:0.54783\n",
      "[357]\ttrain-mlogloss:0.351894\ttest-mlogloss:0.547775\n",
      "[358]\ttrain-mlogloss:0.351425\ttest-mlogloss:0.54786\n",
      "[359]\ttrain-mlogloss:0.350943\ttest-mlogloss:0.547774\n",
      "[360]\ttrain-mlogloss:0.350602\ttest-mlogloss:0.547771\n",
      "[361]\ttrain-mlogloss:0.350357\ttest-mlogloss:0.547768\n",
      "[362]\ttrain-mlogloss:0.34985\ttest-mlogloss:0.547881\n",
      "[363]\ttrain-mlogloss:0.349465\ttest-mlogloss:0.547835\n",
      "[364]\ttrain-mlogloss:0.348895\ttest-mlogloss:0.547832\n",
      "[365]\ttrain-mlogloss:0.348455\ttest-mlogloss:0.548\n",
      "[366]\ttrain-mlogloss:0.348064\ttest-mlogloss:0.547948\n",
      "[367]\ttrain-mlogloss:0.347629\ttest-mlogloss:0.548026\n",
      "[368]\ttrain-mlogloss:0.347153\ttest-mlogloss:0.547928\n",
      "[369]\ttrain-mlogloss:0.346734\ttest-mlogloss:0.547903\n",
      "[370]\ttrain-mlogloss:0.346251\ttest-mlogloss:0.547871\n",
      "[371]\ttrain-mlogloss:0.345869\ttest-mlogloss:0.547909\n",
      "[372]\ttrain-mlogloss:0.345424\ttest-mlogloss:0.547937\n",
      "[373]\ttrain-mlogloss:0.34505\ttest-mlogloss:0.548001\n",
      "[374]\ttrain-mlogloss:0.344615\ttest-mlogloss:0.547982\n",
      "[375]\ttrain-mlogloss:0.344206\ttest-mlogloss:0.54803\n",
      "Stopping. Best iteration:\n",
      "[355]\ttrain-mlogloss:0.352646\ttest-mlogloss:0.547696\n",
      "\n",
      "[0.5480303738042503]\n"
     ]
    }
   ],
   "source": [
    "cv_scores = []\n",
    "kf = model_selection.KFold(n_splits=5, shuffle=True, random_state=2016)\n",
    "for dev_index, val_index in kf.split(range(train_X.shape[0])):\n",
    "        dev_X, val_X = train_X[dev_index,:], train_X[val_index,:]\n",
    "        dev_y, val_y = train_y[dev_index], train_y[val_index]\n",
    "        preds, model = runXGB(dev_X, dev_y, val_X, val_y)\n",
    "        cv_scores.append(log_loss(val_y, preds))\n",
    "        print(cv_scores)\n",
    "        break"
   ]
  },
  {
   "cell_type": "code",
   "execution_count": null,
   "metadata": {
    "collapsed": true
   },
   "outputs": [],
   "source": []
  }
 ],
 "metadata": {
  "kernelspec": {
   "display_name": "Python 3",
   "language": "python",
   "name": "python3"
  },
  "language_info": {
   "codemirror_mode": {
    "name": "ipython",
    "version": 3
   },
   "file_extension": ".py",
   "mimetype": "text/x-python",
   "name": "python",
   "nbconvert_exporter": "python",
   "pygments_lexer": "ipython3",
   "version": "3.6.1"
  }
 },
 "nbformat": 4,
 "nbformat_minor": 2
}
